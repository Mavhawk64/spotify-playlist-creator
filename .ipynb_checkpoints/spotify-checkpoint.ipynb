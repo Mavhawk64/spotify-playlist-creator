{
 "cells": [
  {
   "cell_type": "code",
   "execution_count": 16,
   "id": "aca201b1",
   "metadata": {},
   "outputs": [],
   "source": [
    "from dotenv import load_dotenv\n",
    "import os\n",
    "load_dotenv()\n",
    "CLIENT_ID = os.getenv('CLIENT_ID')\n",
    "CLIENT_SECRET = os.getenv('CLIENT_SECRET')\n",
    "REDIRECT_URI = 'https://example.com/'\n",
    "import requests\n",
    "import spotipy\n",
    "from spotipy.oauth2 import *\n",
    "from pprint import pprint\n",
    "import xlrd"
   ]
  },
  {
   "cell_type": "code",
   "execution_count": 2,
   "id": "2a5e1627",
   "metadata": {},
   "outputs": [],
   "source": [
    "f = xlrd.open_workbook(\"Halloween_Party.xls\").sheet_by_index(0)\n",
    "names = [str(f.cell(row,0))[len(\"text:'\"):][:-1] for row in range(1,f.nrows)]\n",
    "artists = [str(f.cell(row,1))[len(\"text:'\"):][:-1] for row in range(1,f.nrows)]\n",
    "years = [str(f.cell(row,16))[len(\"number:\"):][:-2] for row in range(1,f.nrows)]"
   ]
  },
  {
   "cell_type": "code",
   "execution_count": 3,
   "id": "d077c02b",
   "metadata": {},
   "outputs": [],
   "source": [
    "sp = spotipy.Spotify(auth_manager=SpotifyOAuth(scope=\"playlist-modify-public\",redirect_uri=REDIRECT_URI,client_id=CLIENT_ID,client_secret=CLIENT_SECRET,cache_path='token.txt'))"
   ]
  },
  {
   "cell_type": "code",
   "execution_count": 4,
   "id": "9f608660",
   "metadata": {},
   "outputs": [],
   "source": [
    "results = sp.current_user()\n",
    "\n",
    "user_id = results['id']"
   ]
  },
  {
   "cell_type": "code",
   "execution_count": 5,
   "id": "d7a8e79b",
   "metadata": {},
   "outputs": [],
   "source": [
    "my_playlist = sp.user_playlist_create(user=f\"{user_id}\", name=\"Halloween Party\", description=\"Halloween Party Playlist from Manzana Music\", public=True)"
   ]
  },
  {
   "cell_type": "code",
   "execution_count": 13,
   "id": "1ad22b55",
   "metadata": {},
   "outputs": [
    {
     "name": "stdout",
     "output_type": "stream",
     "text": [
      "Monster Mash not found!\n",
      "My Family (From \"The Addams Family\" Original Motion Picture Soundtrack) not found!\n",
      "No Rest For the Wicked (feat. ZZycho Ward) not found!\n",
      "Calling All the Monsters (feat. Messenger) [2021 Version] not found!\n"
     ]
    },
    {
     "data": {
      "text/plain": [
       "{'snapshot_id': 'MyxhMGU2NTFmZGViNDg5ZWRiMWY4YjNkYmQ4NjU3ZTVlYmQyMmQ4YjNi'}"
      ]
     },
     "execution_count": 13,
     "metadata": {},
     "output_type": "execute_result"
    }
   ],
   "source": [
    "songs = []\n",
    "not_found = []\n",
    "for i in range(0,len(names)):\n",
    "    try:\n",
    "        a = sp.search(q=f\"track:{names[i]}\", type=\"track\")[\"tracks\"]['items'][0]['uri']\n",
    "        songs.append(a[len(\"spotify:track:\"):])\n",
    "    except:\n",
    "        not_found.append(names[i])\n",
    "        print(f\"{names[i]} not found!\")\n",
    "\n",
    "playlist_id = my_playlist['id']\n",
    "\n",
    "sp.playlist_add_items(playlist_id=playlist_id,items=songs)\n",
    "\n"
   ]
  },
  {
   "cell_type": "code",
   "execution_count": null,
   "id": "723fc8d5",
   "metadata": {},
   "outputs": [],
   "source": []
  }
 ],
 "metadata": {
  "kernelspec": {
   "display_name": "Python 3 (ipykernel)",
   "language": "python",
   "name": "python3"
  },
  "language_info": {
   "codemirror_mode": {
    "name": "ipython",
    "version": 3
   },
   "file_extension": ".py",
   "mimetype": "text/x-python",
   "name": "python",
   "nbconvert_exporter": "python",
   "pygments_lexer": "ipython3",
   "version": "3.10.4"
  }
 },
 "nbformat": 4,
 "nbformat_minor": 5
}
